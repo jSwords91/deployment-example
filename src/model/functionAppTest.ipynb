{
 "cells": [
  {
   "cell_type": "code",
   "execution_count": 1,
   "metadata": {},
   "outputs": [
    {
     "name": "stdout",
     "output_type": "stream",
     "text": [
      "Predicted flower species: setosa\n"
     ]
    }
   ],
   "source": [
    "import requests\n",
    "\n",
    "url = \"http://localhost:7071/api/predict\"\n",
    "data = [\n",
    "    {\n",
    "        \"sepal_length\": 5.1,\n",
    "        \"sepal_width\": 3.5,\n",
    "        \"petal_length\": 1.4,\n",
    "        \"petal_width\": 0.2\n",
    "    }\n",
    "]\n",
    "response = requests.post(url, json=data)\n",
    "prediction = response.json()\n",
    "\n",
    "print(f\"Predicted flower species: {prediction['predictions'][0]}\")"
   ]
  },
  {
   "cell_type": "code",
   "execution_count": null,
   "metadata": {},
   "outputs": [],
   "source": []
  }
 ],
 "metadata": {
  "kernelspec": {
   "display_name": "base",
   "language": "python",
   "name": "python3"
  },
  "language_info": {
   "codemirror_mode": {
    "name": "ipython",
    "version": 3
   },
   "file_extension": ".py",
   "mimetype": "text/x-python",
   "name": "python",
   "nbconvert_exporter": "python",
   "pygments_lexer": "ipython3",
   "version": "3.9.13"
  }
 },
 "nbformat": 4,
 "nbformat_minor": 2
}
